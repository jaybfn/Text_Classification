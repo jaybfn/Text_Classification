{
 "cells": [
  {
   "cell_type": "markdown",
   "id": "41a2412e",
   "metadata": {},
   "source": [
    "# Importing Libraries"
   ]
  },
  {
   "cell_type": "code",
   "execution_count": 1,
   "id": "1c0ee67a",
   "metadata": {},
   "outputs": [],
   "source": [
    "import pandas as pd\n",
    "import numpy as np\n",
    "from sklearn.feature_extraction.text import CountVectorizer, TfidfTransformer\n",
    "from sklearn.naive_bayes import MultinomialNB\n",
    "import nltk\n",
    "from nltk.stem import WordNetLemmatizer\n",
    "from nltk.tokenize import TreebankWordTokenizer\n",
    "from nltk.tokenize import word_tokenize\n",
    "from nltk.corpus import wordnet\n",
    "import string\n",
    "import re\n",
    "import os\n",
    "\n",
    "from sklearn.metrics import accuracy_score,precision_score, recall_score, f1_score\n",
    "from sklearn.metrics import plot_roc_curve\n",
    "from sklearn.model_selection import cross_val_score, GridSearchCV\n",
    "from sklearn.model_selection import StratifiedShuffleSplit, StratifiedKFold\n",
    "from sklearn.metrics import confusion_matrix\n",
    "from sklearn.model_selection import cross_validate\n",
    "\n",
    "import seaborn as sns\n",
    "import matplotlib.pyplot as plt"
   ]
  },
  {
   "cell_type": "markdown",
   "id": "b25bf3a5",
   "metadata": {},
   "source": [
    "# Installed nltk"
   ]
  },
  {
   "cell_type": "code",
   "execution_count": 2,
   "id": "bd6394ed",
   "metadata": {},
   "outputs": [],
   "source": [
    "#pip install nltk\n",
    "#nltk.download('wordnet')\n",
    "#nltk.download('stopwords')\n",
    "#import nltk\n",
    "#nltk.download('punkt')"
   ]
  },
  {
   "cell_type": "markdown",
   "id": "782101d6",
   "metadata": {},
   "source": [
    "## Building functions"
   ]
  },
  {
   "cell_type": "code",
   "execution_count": 3,
   "id": "dc6960bd",
   "metadata": {},
   "outputs": [],
   "source": [
    "def get_Cross_Validate_Score (model,X_training_data,y_training_data):\n",
    "    \"\"\"This function estimates the accuracy of the machine learning model based \n",
    "        on any scoring optimization function you provide and\n",
    "        It uses Stratified Shuffle Split to split the data.\n",
    "        \n",
    "        This function takes multiple inputs:\n",
    "            1. model: defined varialbe \n",
    "            2. x_training_data: dataframe\n",
    "            3. y_training_data: dataframe\n",
    "            4. split_parm: parametes to split the data using Stratifiedshuffelsplit\n",
    "            \n",
    "        the output would be the score values used to optimise the model\"\"\"\n",
    "    \n",
    "    n_split = int(input(f'n_split:'))\n",
    "    test_size = float(input(f'test_size:'))\n",
    "    scoring = ['accuracy']\n",
    "    s = StratifiedShuffleSplit(n_split,test_size,random_state=42)\n",
    "    cross_validation_ = cross_validate(estimator=model, # the model to evaluate\n",
    "                                     X=X_training_data,\n",
    "                                     y=y_training_data,\n",
    "                                     scoring=scoring, # evaluation metrics\n",
    "                                     cv=s, # cross validation splitting\n",
    "                                     verbose = 3)\n",
    "    test_accuracy = round(sum((cross_validation_['test_accuracy'])/n_split)*100,2)\n",
    "    \n",
    "    return {print('*°'*20),\n",
    "            print('test_accuracy:',test_accuracy,'%'),\n",
    "            print('*°'*20)}\n",
    "\n",
    "#########################################################################################################################\n",
    "\n",
    "def Confusion_Matrix (Test, Predicted, Class, model):\n",
    "    \"\"\"This function will generate a confusion matrix heat map.\n",
    "        The function will take 3 input arguments:\n",
    "        1. Test: can be ytest or ytrain\n",
    "        2. Predicted: can be ytest_predictes or ytrain_predicted\n",
    "        3. Class: this is the list/vector of ytrain or ytest, it is just used \n",
    "            to automate the xtick and ytick labels\n",
    "        4. model: str input of the model used\n",
    "            eg: 'LR' for Logistic Regression.\"\"\"\n",
    "    \n",
    "    \n",
    "    corr_map = confusion_matrix(Test, Predicted)\n",
    "    LABELS = [\"Survived\",\"Non_Survived\"]\n",
    "    sns.heatmap(corr_map,\n",
    "                annot=True,\n",
    "                cmap='BuPu',\n",
    "                xticklabels=np.unique(Class), \n",
    "                yticklabels=np.unique(Class),\n",
    "                fmt = 'd')\n",
    "    plt.title(f'Confusion_Martix - {model}',fontsize=14)\n",
    "    plt.ylabel(\"True class\",fontsize=14)\n",
    "    plt.xlabel(\"Predicted class\",fontsize=14)\n",
    "\n",
    "    return plt\n",
    "\n",
    "########################################################################################################################\n",
    "def Classification_Metric_models (Test, lists_Predicted, lists_models):\n",
    "    \"\"\" \n",
    "        This function will produce a dataframe with 4 different classification \n",
    "        metrics for comparision:\n",
    "        \n",
    "        1. Accuracy_Score\n",
    "        2. Precision_Score\n",
    "        3. Recall_Score\n",
    "        4. F1_Score\n",
    "        \n",
    "        This function requires 3 input arguments :\n",
    "    \n",
    "            1. Test 'y_test'\n",
    "            2. Predicted will take a list of y_pred from multiple models\n",
    "                eg: '[ypred_Random_Forest,ypred_Logistic_Regression, ....]'\n",
    "            3. models will take a list (string) of all the model used.\n",
    "                eg: '['Random_Forest','Logistic_Regression', ....]'\n",
    "            **For Predicted and models the list item order should be preserved.\n",
    "                \n",
    "        \"\"\"\n",
    "    Scores = pd.DataFrame()\n",
    "    \n",
    "    for pred in lists_Predicted:\n",
    "        Accuracy_Score=accuracy_score(Test, pred)*100\n",
    "        Precision_Score=precision_score(Test, pred, average = 'weighted')*100\n",
    "        Recall_Score=recall_score(Test, pred,average ='weighted')*100\n",
    "        F1_Score=f1_score(Test, pred,average ='weighted')*100\n",
    "        data = {'Accuracy_Score':round(Accuracy_Score,1), 'Precision_Score':round(Precision_Score,1), 'Recall_Score':round(Recall_Score,1), 'F1_Score':round(F1_Score,1) }\n",
    "        Scores = Scores.append(data,ignore_index=True)\n",
    "    Scores['Model'] = lists_models\n",
    "    Scores.set_index('Model', inplace=True)\n",
    "    \n",
    "    return Scores"
   ]
  },
  {
   "cell_type": "markdown",
   "id": "8b903d45",
   "metadata": {},
   "source": [
    "## Creating a Corpus"
   ]
  },
  {
   "cell_type": "code",
   "execution_count": 63,
   "id": "3d37d859",
   "metadata": {},
   "outputs": [],
   "source": [
    "folders = ['Eminem','Jay-Z','Justin-Timberlake','50-Cent','Bob-Marley','Michael-Jackson','Akon']\n",
    "corpus = []    #,\n",
    "file_list_ = []\n",
    "folder_len = []\n",
    "base_url = r\"C:/Users/Asus/OneDrive/Desktop/Spiced_Academy/naive-zatar-student-codes/week4/\"\n",
    "for folder in folders:\n",
    "    full_path = base_url+folder\n",
    "    #file_list_[folder] = os.listdir(full_path)\n",
    "    folder = os.listdir(full_path)\n",
    "    folder_len.append(len(folder))\n",
    "    #print(folder)\n",
    "    for filename in folder:\n",
    "        final_path = full_path+'/'+ filename\n",
    "        #print(final_path)\n",
    "    \n",
    "        with open(final_path, 'r',encoding=\"utf8\") as f:\n",
    "            bob_marley = f.read()\n",
    "            corpus.append(bob_marley)\n",
    "            f.close()"
   ]
  },
  {
   "cell_type": "code",
   "execution_count": 64,
   "id": "d0190650",
   "metadata": {},
   "outputs": [],
   "source": [
    "Corpus = []\n",
    "for i in corpus:\n",
    "    newstr = i.replace(\"\\n\", \" \")\n",
    "    Corpus.append(newstr)"
   ]
  },
  {
   "cell_type": "code",
   "execution_count": 65,
   "id": "dde77cf1",
   "metadata": {},
   "outputs": [],
   "source": [
    "#Corpus"
   ]
  },
  {
   "cell_type": "code",
   "execution_count": 66,
   "id": "05ec96e5",
   "metadata": {},
   "outputs": [
    {
     "name": "stdout",
     "output_type": "stream",
     "text": [
      "[440, 579, 164, 305, 173, 287, 243]\n",
      "['Eminem', 'Jay-Z', 'Justin-Timberlake', '50-Cent', 'Bob-Marley', 'Michael-Jackson', 'Akon']\n"
     ]
    }
   ],
   "source": [
    "print(folder_len) # number of songs from each artist\n",
    "print(folders)"
   ]
  },
  {
   "cell_type": "code",
   "execution_count": 67,
   "id": "2c239d49",
   "metadata": {},
   "outputs": [],
   "source": [
    "# Build labels\n",
    "\n",
    "labels = []\n",
    "for name , i in zip(folders, folder_len):\n",
    "    labels.append([name]*i)"
   ]
  },
  {
   "cell_type": "code",
   "execution_count": 68,
   "id": "1eca8dea",
   "metadata": {},
   "outputs": [],
   "source": [
    "labels = [ item for elem in labels for item in elem]"
   ]
  },
  {
   "cell_type": "markdown",
   "id": "2a5c572d",
   "metadata": {},
   "source": [
    "## Processing the text by tokenizing and lemmatizing"
   ]
  },
  {
   "cell_type": "code",
   "execution_count": 69,
   "id": "961092ef",
   "metadata": {},
   "outputs": [],
   "source": [
    "from sklearn.feature_extraction import _stop_words\n",
    "skl_stopwords=_stop_words.ENGLISH_STOP_WORDS\n",
    "\n",
    "lemmatizer = WordNetLemmatizer()\n",
    "tokenizer= TreebankWordTokenizer()"
   ]
  },
  {
   "cell_type": "code",
   "execution_count": 70,
   "id": "e48a42db",
   "metadata": {},
   "outputs": [],
   "source": [
    "def tokenize_lemmatize(text, stopwords=skl_stopwords, tokenizer=tokenizer, lemmatizer=lemmatizer):\n",
    "    panc = string.punctuation + '–'+ '‘'+ '’'+ '“'+'”'\n",
    "    text = [i for i in text if not re.findall(\"[^\\u0000-\\u05C0\\u2100-\\u214F]+\",i)]\n",
    "    text = ''.join([ch for ch in text if ch not in panc]) #remove punctuation\n",
    "    text = re.sub(pattern= '[0-9]+', string= text, repl = ' ' )\n",
    "    text = re.sub(pattern = '(aah|aaaa|aa)', string = text, repl ='')\n",
    "    tokens = nltk.word_tokenize(text) \n",
    "    return [lemmatizer.lemmatize(token) for token in tokens if token not in stopwords] "
   ]
  },
  {
   "cell_type": "code",
   "execution_count": 71,
   "id": "86a6a035",
   "metadata": {},
   "outputs": [],
   "source": [
    "vectorizer = CountVectorizer(tokenizer=tokenize_lemmatize,encoding='utf-8', stop_words=None)"
   ]
  },
  {
   "cell_type": "code",
   "execution_count": 72,
   "id": "eeb2380b",
   "metadata": {},
   "outputs": [],
   "source": [
    "X = vectorizer.fit_transform(Corpus)"
   ]
  },
  {
   "cell_type": "code",
   "execution_count": 73,
   "id": "f6eb6ea6",
   "metadata": {},
   "outputs": [],
   "source": [
    "lyric_df = pd.DataFrame(X.todense(), columns=vectorizer.get_feature_names())                     "
   ]
  },
  {
   "cell_type": "code",
   "execution_count": 74,
   "id": "587f1752",
   "metadata": {},
   "outputs": [
    {
     "data": {
      "text/html": [
       "<div>\n",
       "<style scoped>\n",
       "    .dataframe tbody tr th:only-of-type {\n",
       "        vertical-align: middle;\n",
       "    }\n",
       "\n",
       "    .dataframe tbody tr th {\n",
       "        vertical-align: top;\n",
       "    }\n",
       "\n",
       "    .dataframe thead th {\n",
       "        text-align: right;\n",
       "    }\n",
       "</style>\n",
       "<table border=\"1\" class=\"dataframe\">\n",
       "  <thead>\n",
       "    <tr style=\"text-align: right;\">\n",
       "      <th></th>\n",
       "      <th>ab</th>\n",
       "      <th>aback</th>\n",
       "      <th>abandon</th>\n",
       "      <th>abandoned</th>\n",
       "      <th>abay</th>\n",
       "      <th>abbey</th>\n",
       "      <th>abc</th>\n",
       "      <th>abdomen</th>\n",
       "      <th>abdominal</th>\n",
       "      <th>abdul</th>\n",
       "      <th>...</th>\n",
       "      <th>élèves</th>\n",
       "      <th>éléverons</th>\n",
       "      <th>équilibre</th>\n",
       "      <th>équipe</th>\n",
       "      <th>étoiles</th>\n",
       "      <th>être</th>\n",
       "      <th>ït</th>\n",
       "      <th>übern</th>\n",
       "      <th>œil</th>\n",
       "      <th>ɲi</th>\n",
       "    </tr>\n",
       "  </thead>\n",
       "  <tbody>\n",
       "    <tr>\n",
       "      <th>0</th>\n",
       "      <td>0</td>\n",
       "      <td>0</td>\n",
       "      <td>0</td>\n",
       "      <td>0</td>\n",
       "      <td>0</td>\n",
       "      <td>0</td>\n",
       "      <td>0</td>\n",
       "      <td>0</td>\n",
       "      <td>0</td>\n",
       "      <td>0</td>\n",
       "      <td>...</td>\n",
       "      <td>0</td>\n",
       "      <td>0</td>\n",
       "      <td>0</td>\n",
       "      <td>0</td>\n",
       "      <td>0</td>\n",
       "      <td>0</td>\n",
       "      <td>0</td>\n",
       "      <td>0</td>\n",
       "      <td>0</td>\n",
       "      <td>0</td>\n",
       "    </tr>\n",
       "    <tr>\n",
       "      <th>1</th>\n",
       "      <td>0</td>\n",
       "      <td>0</td>\n",
       "      <td>0</td>\n",
       "      <td>0</td>\n",
       "      <td>0</td>\n",
       "      <td>0</td>\n",
       "      <td>0</td>\n",
       "      <td>0</td>\n",
       "      <td>0</td>\n",
       "      <td>0</td>\n",
       "      <td>...</td>\n",
       "      <td>0</td>\n",
       "      <td>0</td>\n",
       "      <td>0</td>\n",
       "      <td>0</td>\n",
       "      <td>0</td>\n",
       "      <td>0</td>\n",
       "      <td>0</td>\n",
       "      <td>0</td>\n",
       "      <td>0</td>\n",
       "      <td>0</td>\n",
       "    </tr>\n",
       "    <tr>\n",
       "      <th>2</th>\n",
       "      <td>0</td>\n",
       "      <td>0</td>\n",
       "      <td>0</td>\n",
       "      <td>0</td>\n",
       "      <td>0</td>\n",
       "      <td>0</td>\n",
       "      <td>0</td>\n",
       "      <td>0</td>\n",
       "      <td>0</td>\n",
       "      <td>0</td>\n",
       "      <td>...</td>\n",
       "      <td>0</td>\n",
       "      <td>0</td>\n",
       "      <td>0</td>\n",
       "      <td>0</td>\n",
       "      <td>0</td>\n",
       "      <td>0</td>\n",
       "      <td>0</td>\n",
       "      <td>0</td>\n",
       "      <td>0</td>\n",
       "      <td>0</td>\n",
       "    </tr>\n",
       "    <tr>\n",
       "      <th>3</th>\n",
       "      <td>0</td>\n",
       "      <td>0</td>\n",
       "      <td>0</td>\n",
       "      <td>0</td>\n",
       "      <td>0</td>\n",
       "      <td>0</td>\n",
       "      <td>0</td>\n",
       "      <td>0</td>\n",
       "      <td>0</td>\n",
       "      <td>0</td>\n",
       "      <td>...</td>\n",
       "      <td>0</td>\n",
       "      <td>0</td>\n",
       "      <td>0</td>\n",
       "      <td>0</td>\n",
       "      <td>0</td>\n",
       "      <td>0</td>\n",
       "      <td>0</td>\n",
       "      <td>0</td>\n",
       "      <td>0</td>\n",
       "      <td>0</td>\n",
       "    </tr>\n",
       "    <tr>\n",
       "      <th>4</th>\n",
       "      <td>0</td>\n",
       "      <td>0</td>\n",
       "      <td>0</td>\n",
       "      <td>0</td>\n",
       "      <td>0</td>\n",
       "      <td>0</td>\n",
       "      <td>0</td>\n",
       "      <td>0</td>\n",
       "      <td>0</td>\n",
       "      <td>0</td>\n",
       "      <td>...</td>\n",
       "      <td>0</td>\n",
       "      <td>0</td>\n",
       "      <td>0</td>\n",
       "      <td>0</td>\n",
       "      <td>0</td>\n",
       "      <td>0</td>\n",
       "      <td>0</td>\n",
       "      <td>0</td>\n",
       "      <td>0</td>\n",
       "      <td>0</td>\n",
       "    </tr>\n",
       "  </tbody>\n",
       "</table>\n",
       "<p>5 rows × 25028 columns</p>\n",
       "</div>"
      ],
      "text/plain": [
       "   ab  aback  abandon  abandoned  abay  abbey  abc  abdomen  abdominal  abdul  \\\n",
       "0   0      0        0          0     0      0    0        0          0      0   \n",
       "1   0      0        0          0     0      0    0        0          0      0   \n",
       "2   0      0        0          0     0      0    0        0          0      0   \n",
       "3   0      0        0          0     0      0    0        0          0      0   \n",
       "4   0      0        0          0     0      0    0        0          0      0   \n",
       "\n",
       "   ...  élèves  éléverons  équilibre  équipe  étoiles  être  ït  übern  œil  \\\n",
       "0  ...       0          0          0       0        0     0   0      0    0   \n",
       "1  ...       0          0          0       0        0     0   0      0    0   \n",
       "2  ...       0          0          0       0        0     0   0      0    0   \n",
       "3  ...       0          0          0       0        0     0   0      0    0   \n",
       "4  ...       0          0          0       0        0     0   0      0    0   \n",
       "\n",
       "   ɲi  \n",
       "0   0  \n",
       "1   0  \n",
       "2   0  \n",
       "3   0  \n",
       "4   0  \n",
       "\n",
       "[5 rows x 25028 columns]"
      ]
     },
     "execution_count": 74,
     "metadata": {},
     "output_type": "execute_result"
    }
   ],
   "source": [
    "lyric_df.head()"
   ]
  },
  {
   "cell_type": "code",
   "execution_count": 75,
   "id": "fabfa14c",
   "metadata": {},
   "outputs": [],
   "source": [
    "# pd.set_option('max_columns', None)\n",
    "# pd.set_option('max_rows', None)\n",
    "# lyric_df"
   ]
  },
  {
   "cell_type": "code",
   "execution_count": 76,
   "id": "918340da",
   "metadata": {},
   "outputs": [
    {
     "name": "stdout",
     "output_type": "stream",
     "text": [
      "['Eminem', 'Jay-Z', 'Justin-Timberlake', '50-Cent', 'Bob-Marley', 'Michael-Jackson', 'Akon']\n"
     ]
    }
   ],
   "source": [
    "print(folders)"
   ]
  },
  {
   "cell_type": "code",
   "execution_count": 77,
   "id": "b7df1666",
   "metadata": {},
   "outputs": [],
   "source": [
    "Labels = pd.DataFrame(labels, columns=['artist']) # inserting label col to the lyric_df dataframe.\n",
    "Labels['artist'] = Labels['artist'].map({'Eminem':0,'Jay-Z':1,'Justin-Timberlake':2,'50-Cent':3, 'Bob-Marley':4, 'Michael-Jackson':5,'Akon':6})\n",
    "#Labels.head()"
   ]
  },
  {
   "cell_type": "markdown",
   "id": "9f410673",
   "metadata": {},
   "source": [
    "## Train and Test"
   ]
  },
  {
   "cell_type": "code",
   "execution_count": 78,
   "id": "7a619f31",
   "metadata": {},
   "outputs": [
    {
     "name": "stdout",
     "output_type": "stream",
     "text": [
      "unique samples in each class (oversampled): \n",
      "artist\n",
      "0         579\n",
      "1         579\n",
      "2         579\n",
      "3         579\n",
      "4         579\n",
      "5         579\n",
      "6         579\n",
      "dtype: int64\n"
     ]
    }
   ],
   "source": [
    "from imblearn.over_sampling import RandomOverSampler, SMOTE\n",
    "\n",
    "ros = RandomOverSampler(random_state=10, sampling_strategy=\"auto\")\n",
    "\n",
    "X_ros, y_ros = ros.fit_resample(lyric_df, Labels)\n",
    "\n",
    "print(f'unique samples in each class (oversampled): \\n{y_ros.value_counts()}')"
   ]
  },
  {
   "cell_type": "code",
   "execution_count": 79,
   "id": "238bced6",
   "metadata": {},
   "outputs": [
    {
     "data": {
      "text/plain": [
       "((3039, 25028), (1014, 25028), (3039, 1), (1014, 1))"
      ]
     },
     "execution_count": 79,
     "metadata": {},
     "output_type": "execute_result"
    }
   ],
   "source": [
    "from sklearn.model_selection import train_test_split\n",
    "Xtrain, Xtest, ytrain, ytest = train_test_split(X_ros, y_ros, test_size=.25, random_state= 42)\n",
    "Xtrain.shape, Xtest.shape, ytrain.shape, ytest.shape"
   ]
  },
  {
   "cell_type": "code",
   "execution_count": 80,
   "id": "7582749c",
   "metadata": {},
   "outputs": [],
   "source": [
    "tf = TfidfTransformer() \n",
    "Xtrain_norm = tf.fit_transform(Xtrain)"
   ]
  },
  {
   "cell_type": "code",
   "execution_count": 81,
   "id": "2daecb49",
   "metadata": {},
   "outputs": [
    {
     "data": {
      "text/plain": [
       "<3039x25028 sparse matrix of type '<class 'numpy.float64'>'\n",
       "\twith 374950 stored elements in Compressed Sparse Row format>"
      ]
     },
     "execution_count": 81,
     "metadata": {},
     "output_type": "execute_result"
    }
   ],
   "source": [
    "Xtrain_norm"
   ]
  },
  {
   "cell_type": "code",
   "execution_count": 82,
   "id": "c99eea5b",
   "metadata": {},
   "outputs": [
    {
     "data": {
      "text/plain": [
       "(3039, 25028)"
      ]
     },
     "execution_count": 82,
     "metadata": {},
     "output_type": "execute_result"
    }
   ],
   "source": [
    "Xtrain_norm=pd.DataFrame(Xtrain_norm.todense(), columns=vectorizer.get_feature_names())\n",
    "Xtrain_norm.shape"
   ]
  },
  {
   "cell_type": "code",
   "execution_count": 83,
   "id": "fb42fd55",
   "metadata": {},
   "outputs": [],
   "source": [
    "#pip install imblearn"
   ]
  },
  {
   "cell_type": "markdown",
   "id": "899847a3",
   "metadata": {},
   "source": [
    "# Model1 : Naive Bayes"
   ]
  },
  {
   "cell_type": "code",
   "execution_count": 84,
   "id": "b10c967d",
   "metadata": {},
   "outputs": [
    {
     "name": "stderr",
     "output_type": "stream",
     "text": [
      "C:\\Users\\Asus\\anaconda3\\lib\\site-packages\\sklearn\\utils\\validation.py:63: DataConversionWarning: A column-vector y was passed when a 1d array was expected. Please change the shape of y to (n_samples, ), for example using ravel().\n",
      "  return f(*args, **kwargs)\n"
     ]
    }
   ],
   "source": [
    "NB  = MultinomialNB(alpha=1).fit(Xtrain_norm, ytrain)"
   ]
  },
  {
   "cell_type": "code",
   "execution_count": 85,
   "id": "694920ab",
   "metadata": {},
   "outputs": [
    {
     "name": "stdout",
     "output_type": "stream",
     "text": [
      "Training score: 91.94%\n"
     ]
    }
   ],
   "source": [
    "print(f'Training score: {round(NB.score(Xtrain_norm, ytrain)*100,2)}%') "
   ]
  },
  {
   "cell_type": "code",
   "execution_count": 86,
   "id": "7fb0ac1d",
   "metadata": {},
   "outputs": [],
   "source": [
    "Xtest_norm = tf.transform(Xtest)"
   ]
  },
  {
   "cell_type": "code",
   "execution_count": 87,
   "id": "66c90d10",
   "metadata": {},
   "outputs": [],
   "source": [
    "Xtest_norm=pd.DataFrame(Xtest_norm.todense(), columns=vectorizer.get_feature_names())\n",
    "#Xtest_norm.head()"
   ]
  },
  {
   "cell_type": "code",
   "execution_count": 88,
   "id": "65f51b59",
   "metadata": {},
   "outputs": [
    {
     "name": "stdout",
     "output_type": "stream",
     "text": [
      "Test score: 83.23%\n"
     ]
    }
   ],
   "source": [
    "print(f'Test score: {round(NB.score(Xtest_norm, ytest)*100,2)}%') "
   ]
  },
  {
   "cell_type": "code",
   "execution_count": 89,
   "id": "4aea5afc",
   "metadata": {},
   "outputs": [],
   "source": [
    "ypred_NB = NB.predict(Xtest_norm)"
   ]
  },
  {
   "cell_type": "code",
   "execution_count": 90,
   "id": "b445d269",
   "metadata": {},
   "outputs": [
    {
     "name": "stdout",
     "output_type": "stream",
     "text": [
      "n_split:10\n",
      "test_size:0.25\n"
     ]
    },
    {
     "name": "stderr",
     "output_type": "stream",
     "text": [
      "C:\\Users\\Asus\\anaconda3\\lib\\site-packages\\sklearn\\utils\\validation.py:70: FutureWarning: Pass test_size=0.25 as keyword args. From version 1.0 (renaming of 0.25) passing these as positional arguments will result in an error\n",
      "  warnings.warn(f\"Pass {args_msg} as keyword args. From version \"\n",
      "[Parallel(n_jobs=1)]: Using backend SequentialBackend with 1 concurrent workers.\n",
      "C:\\Users\\Asus\\anaconda3\\lib\\site-packages\\sklearn\\utils\\validation.py:63: DataConversionWarning: A column-vector y was passed when a 1d array was expected. Please change the shape of y to (n_samples, ), for example using ravel().\n",
      "  return f(*args, **kwargs)\n"
     ]
    },
    {
     "name": "stdout",
     "output_type": "stream",
     "text": [
      "[CV] END ............................. accuracy: (test=0.795) total time=   0.4s\n"
     ]
    },
    {
     "name": "stderr",
     "output_type": "stream",
     "text": [
      "[Parallel(n_jobs=1)]: Done   1 out of   1 | elapsed:    0.4s remaining:    0.0s\n",
      "C:\\Users\\Asus\\anaconda3\\lib\\site-packages\\sklearn\\utils\\validation.py:63: DataConversionWarning: A column-vector y was passed when a 1d array was expected. Please change the shape of y to (n_samples, ), for example using ravel().\n",
      "  return f(*args, **kwargs)\n"
     ]
    },
    {
     "name": "stdout",
     "output_type": "stream",
     "text": [
      "[CV] END ............................. accuracy: (test=0.813) total time=   0.4s\n"
     ]
    },
    {
     "name": "stderr",
     "output_type": "stream",
     "text": [
      "[Parallel(n_jobs=1)]: Done   2 out of   2 | elapsed:    0.9s remaining:    0.0s\n",
      "C:\\Users\\Asus\\anaconda3\\lib\\site-packages\\sklearn\\utils\\validation.py:63: DataConversionWarning: A column-vector y was passed when a 1d array was expected. Please change the shape of y to (n_samples, ), for example using ravel().\n",
      "  return f(*args, **kwargs)\n"
     ]
    },
    {
     "name": "stdout",
     "output_type": "stream",
     "text": [
      "[CV] END ............................. accuracy: (test=0.772) total time=   0.4s\n"
     ]
    },
    {
     "name": "stderr",
     "output_type": "stream",
     "text": [
      "C:\\Users\\Asus\\anaconda3\\lib\\site-packages\\sklearn\\utils\\validation.py:63: DataConversionWarning: A column-vector y was passed when a 1d array was expected. Please change the shape of y to (n_samples, ), for example using ravel().\n",
      "  return f(*args, **kwargs)\n"
     ]
    },
    {
     "name": "stdout",
     "output_type": "stream",
     "text": [
      "[CV] END ............................. accuracy: (test=0.817) total time=   0.4s\n"
     ]
    },
    {
     "name": "stderr",
     "output_type": "stream",
     "text": [
      "C:\\Users\\Asus\\anaconda3\\lib\\site-packages\\sklearn\\utils\\validation.py:63: DataConversionWarning: A column-vector y was passed when a 1d array was expected. Please change the shape of y to (n_samples, ), for example using ravel().\n",
      "  return f(*args, **kwargs)\n"
     ]
    },
    {
     "name": "stdout",
     "output_type": "stream",
     "text": [
      "[CV] END ............................. accuracy: (test=0.818) total time=   0.4s\n"
     ]
    },
    {
     "name": "stderr",
     "output_type": "stream",
     "text": [
      "C:\\Users\\Asus\\anaconda3\\lib\\site-packages\\sklearn\\utils\\validation.py:63: DataConversionWarning: A column-vector y was passed when a 1d array was expected. Please change the shape of y to (n_samples, ), for example using ravel().\n",
      "  return f(*args, **kwargs)\n"
     ]
    },
    {
     "name": "stdout",
     "output_type": "stream",
     "text": [
      "[CV] END ............................. accuracy: (test=0.846) total time=   0.4s\n"
     ]
    },
    {
     "name": "stderr",
     "output_type": "stream",
     "text": [
      "C:\\Users\\Asus\\anaconda3\\lib\\site-packages\\sklearn\\utils\\validation.py:63: DataConversionWarning: A column-vector y was passed when a 1d array was expected. Please change the shape of y to (n_samples, ), for example using ravel().\n",
      "  return f(*args, **kwargs)\n"
     ]
    },
    {
     "name": "stdout",
     "output_type": "stream",
     "text": [
      "[CV] END ............................. accuracy: (test=0.774) total time=   0.4s\n"
     ]
    },
    {
     "name": "stderr",
     "output_type": "stream",
     "text": [
      "C:\\Users\\Asus\\anaconda3\\lib\\site-packages\\sklearn\\utils\\validation.py:63: DataConversionWarning: A column-vector y was passed when a 1d array was expected. Please change the shape of y to (n_samples, ), for example using ravel().\n",
      "  return f(*args, **kwargs)\n"
     ]
    },
    {
     "name": "stdout",
     "output_type": "stream",
     "text": [
      "[CV] END ............................. accuracy: (test=0.836) total time=   0.4s\n"
     ]
    },
    {
     "name": "stderr",
     "output_type": "stream",
     "text": [
      "C:\\Users\\Asus\\anaconda3\\lib\\site-packages\\sklearn\\utils\\validation.py:63: DataConversionWarning: A column-vector y was passed when a 1d array was expected. Please change the shape of y to (n_samples, ), for example using ravel().\n",
      "  return f(*args, **kwargs)\n"
     ]
    },
    {
     "name": "stdout",
     "output_type": "stream",
     "text": [
      "[CV] END ............................. accuracy: (test=0.805) total time=   0.4s\n"
     ]
    },
    {
     "name": "stderr",
     "output_type": "stream",
     "text": [
      "C:\\Users\\Asus\\anaconda3\\lib\\site-packages\\sklearn\\utils\\validation.py:63: DataConversionWarning: A column-vector y was passed when a 1d array was expected. Please change the shape of y to (n_samples, ), for example using ravel().\n",
      "  return f(*args, **kwargs)\n"
     ]
    },
    {
     "name": "stdout",
     "output_type": "stream",
     "text": [
      "[CV] END ............................. accuracy: (test=0.808) total time=   0.4s\n",
      "*°*°*°*°*°*°*°*°*°*°*°*°*°*°*°*°*°*°*°*°\n",
      "test_accuracy: 80.84 %\n",
      "*°*°*°*°*°*°*°*°*°*°*°*°*°*°*°*°*°*°*°*°\n"
     ]
    },
    {
     "name": "stderr",
     "output_type": "stream",
     "text": [
      "[Parallel(n_jobs=1)]: Done  10 out of  10 | elapsed:    4.9s finished\n"
     ]
    },
    {
     "data": {
      "text/plain": [
       "{None}"
      ]
     },
     "execution_count": 90,
     "metadata": {},
     "output_type": "execute_result"
    }
   ],
   "source": [
    "get_Cross_Validate_Score(NB,Xtrain_norm, ytrain)"
   ]
  },
  {
   "cell_type": "markdown",
   "id": "6addaac3",
   "metadata": {},
   "source": [
    "# Model2: Logistic Regression"
   ]
  },
  {
   "cell_type": "code",
   "execution_count": 91,
   "id": "c34d87c8",
   "metadata": {},
   "outputs": [],
   "source": [
    "from sklearn.linear_model import LogisticRegression"
   ]
  },
  {
   "cell_type": "code",
   "execution_count": 92,
   "id": "05be55d6",
   "metadata": {},
   "outputs": [
    {
     "name": "stderr",
     "output_type": "stream",
     "text": [
      "C:\\Users\\Asus\\anaconda3\\lib\\site-packages\\sklearn\\utils\\validation.py:63: DataConversionWarning: A column-vector y was passed when a 1d array was expected. Please change the shape of y to (n_samples, ), for example using ravel().\n",
      "  return f(*args, **kwargs)\n"
     ]
    }
   ],
   "source": [
    "lm = LogisticRegression(max_iter= 1000, tol=0.001, random_state=42).fit(Xtrain_norm, ytrain)"
   ]
  },
  {
   "cell_type": "code",
   "execution_count": 93,
   "id": "5164838a",
   "metadata": {},
   "outputs": [
    {
     "name": "stdout",
     "output_type": "stream",
     "text": [
      "Training score 96.02%\n"
     ]
    }
   ],
   "source": [
    "print(f'Training score {round(lm.score(Xtrain_norm, ytrain)*100,2)}%')"
   ]
  },
  {
   "cell_type": "code",
   "execution_count": 94,
   "id": "5e9ea431",
   "metadata": {},
   "outputs": [],
   "source": [
    "ypred_LR = lm.predict(Xtest_norm)"
   ]
  },
  {
   "cell_type": "code",
   "execution_count": 95,
   "id": "393509e0",
   "metadata": {},
   "outputs": [
    {
     "name": "stdout",
     "output_type": "stream",
     "text": [
      "Testing score 87.28%\n"
     ]
    }
   ],
   "source": [
    "print(f'Testing score {round(lm.score(Xtest_norm, ytest)*100,2)}%')"
   ]
  },
  {
   "cell_type": "code",
   "execution_count": 96,
   "id": "c15ce3e7",
   "metadata": {},
   "outputs": [
    {
     "data": {
      "text/plain": [
       "<module 'matplotlib.pyplot' from 'C:\\\\Users\\\\Asus\\\\anaconda3\\\\lib\\\\site-packages\\\\matplotlib\\\\pyplot.py'>"
      ]
     },
     "execution_count": 96,
     "metadata": {},
     "output_type": "execute_result"
    },
    {
     "data": {
      "image/png": "[encoded data removed]",
      "text/plain": [
       "<Figure size 432x288 with 2 Axes>"
      ]
     },
     "metadata": {
      "needs_background": "light"
     },
     "output_type": "display_data"
    }
   ],
   "source": [
    "Confusion_Matrix (ytest, ypred_LR, labels, 'LR')"
   ]
  },
  {
   "cell_type": "code",
   "execution_count": 97,
   "id": "e7dcbe4e",
   "metadata": {},
   "outputs": [
    {
     "data": {
      "text/html": [
       "<div>\n",
       "<style scoped>\n",
       "    .dataframe tbody tr th:only-of-type {\n",
       "        vertical-align: middle;\n",
       "    }\n",
       "\n",
       "    .dataframe tbody tr th {\n",
       "        vertical-align: top;\n",
       "    }\n",
       "\n",
       "    .dataframe thead th {\n",
       "        text-align: right;\n",
       "    }\n",
       "</style>\n",
       "<table border=\"1\" class=\"dataframe\">\n",
       "  <thead>\n",
       "    <tr style=\"text-align: right;\">\n",
       "      <th></th>\n",
       "      <th>Accuracy_Score</th>\n",
       "      <th>Precision_Score</th>\n",
       "      <th>Recall_Score</th>\n",
       "      <th>F1_Score</th>\n",
       "    </tr>\n",
       "    <tr>\n",
       "      <th>Model</th>\n",
       "      <th></th>\n",
       "      <th></th>\n",
       "      <th></th>\n",
       "      <th></th>\n",
       "    </tr>\n",
       "  </thead>\n",
       "  <tbody>\n",
       "    <tr>\n",
       "      <th>Logistic_Regression</th>\n",
       "      <td>87.3</td>\n",
       "      <td>87.4</td>\n",
       "      <td>87.3</td>\n",
       "      <td>87.2</td>\n",
       "    </tr>\n",
       "  </tbody>\n",
       "</table>\n",
       "</div>"
      ],
      "text/plain": [
       "                     Accuracy_Score  Precision_Score  Recall_Score  F1_Score\n",
       "Model                                                                       \n",
       "Logistic_Regression            87.3             87.4          87.3      87.2"
      ]
     },
     "execution_count": 97,
     "metadata": {},
     "output_type": "execute_result"
    }
   ],
   "source": [
    "Classification_Metric_models(ytest, [ypred_LR],['Logistic_Regression'])"
   ]
  },
  {
   "cell_type": "markdown",
   "id": "940801f4",
   "metadata": {},
   "source": [
    "# Model3: Random Forest Classifier"
   ]
  },
  {
   "cell_type": "code",
   "execution_count": 98,
   "id": "95bbb597",
   "metadata": {},
   "outputs": [],
   "source": [
    "from sklearn.ensemble import RandomForestClassifier\n",
    "import multiprocessing"
   ]
  },
  {
   "cell_type": "code",
   "execution_count": 99,
   "id": "14404736",
   "metadata": {},
   "outputs": [
    {
     "name": "stderr",
     "output_type": "stream",
     "text": [
      "<timed exec>:2: DataConversionWarning: A column-vector y was passed when a 1d array was expected. Please change the shape of y to (n_samples,), for example using ravel().\n"
     ]
    },
    {
     "name": "stdout",
     "output_type": "stream",
     "text": [
      "Wall time: 2min 23s\n"
     ]
    }
   ],
   "source": [
    "%%time\n",
    "#n_estimators= 5000,min_samples_split= 350,min_samples_leaf= 7, max_depth=1000, random_state=101\n",
    "RFC  = RandomForestClassifier(n_estimators= 2000,min_samples_split= 25,min_samples_leaf= 3, max_depth=500, random_state=101).fit(Xtrain_norm, ytrain)"
   ]
  },
  {
   "cell_type": "code",
   "execution_count": 100,
   "id": "1ffb9a1a",
   "metadata": {},
   "outputs": [],
   "source": [
    "ypred_rfc = RFC.predict(Xtest_norm)"
   ]
  },
  {
   "cell_type": "code",
   "execution_count": 101,
   "id": "f09a5063",
   "metadata": {},
   "outputs": [
    {
     "name": "stdout",
     "output_type": "stream",
     "text": [
      "Training score 96.51%\n",
      "Testing score 89.94%\n",
      "error: 6.570000000000007%\n"
     ]
    }
   ],
   "source": [
    "print(f'Training score {round(RFC.score(Xtrain_norm, ytrain)*100,2)}%')\n",
    "print(f'Testing score {round(RFC.score(Xtest_norm, ytest)*100,2)}%')\n",
    "print(f'error: {round(RFC.score(Xtrain_norm, ytrain)*100,2) - round(RFC.score(Xtest_norm, ytest)*100,2)}%')"
   ]
  },
  {
   "cell_type": "code",
   "execution_count": 102,
   "id": "45c06dd2",
   "metadata": {},
   "outputs": [
    {
     "data": {
      "text/html": [
       "<div>\n",
       "<style scoped>\n",
       "    .dataframe tbody tr th:only-of-type {\n",
       "        vertical-align: middle;\n",
       "    }\n",
       "\n",
       "    .dataframe tbody tr th {\n",
       "        vertical-align: top;\n",
       "    }\n",
       "\n",
       "    .dataframe thead th {\n",
       "        text-align: right;\n",
       "    }\n",
       "</style>\n",
       "<table border=\"1\" class=\"dataframe\">\n",
       "  <thead>\n",
       "    <tr style=\"text-align: right;\">\n",
       "      <th></th>\n",
       "      <th>Accuracy_Score</th>\n",
       "      <th>Precision_Score</th>\n",
       "      <th>Recall_Score</th>\n",
       "      <th>F1_Score</th>\n",
       "    </tr>\n",
       "    <tr>\n",
       "      <th>Model</th>\n",
       "      <th></th>\n",
       "      <th></th>\n",
       "      <th></th>\n",
       "      <th></th>\n",
       "    </tr>\n",
       "  </thead>\n",
       "  <tbody>\n",
       "    <tr>\n",
       "      <th>Random_Forest</th>\n",
       "      <td>89.9</td>\n",
       "      <td>90.4</td>\n",
       "      <td>89.9</td>\n",
       "      <td>89.9</td>\n",
       "    </tr>\n",
       "  </tbody>\n",
       "</table>\n",
       "</div>"
      ],
      "text/plain": [
       "               Accuracy_Score  Precision_Score  Recall_Score  F1_Score\n",
       "Model                                                                 \n",
       "Random_Forest            89.9             90.4          89.9      89.9"
      ]
     },
     "execution_count": 102,
     "metadata": {},
     "output_type": "execute_result"
    }
   ],
   "source": [
    "Classification_Metric_models(ytest, [ypred_rfc], ['Random_Forest'])"
   ]
  },
  {
   "cell_type": "code",
   "execution_count": 103,
   "id": "ad409bc3",
   "metadata": {},
   "outputs": [
    {
     "data": {
      "text/plain": [
       "<module 'matplotlib.pyplot' from 'C:\\\\Users\\\\Asus\\\\anaconda3\\\\lib\\\\site-packages\\\\matplotlib\\\\pyplot.py'>"
      ]
     },
     "execution_count": 103,
     "metadata": {},
     "output_type": "execute_result"
    },
    {
     "data": {
      "image/png": "[encoded data removed]",
      "text/plain": [
       "<Figure size 432x288 with 2 Axes>"
      ]
     },
     "metadata": {
      "needs_background": "light"
     },
     "output_type": "display_data"
    }
   ],
   "source": [
    "Confusion_Matrix (ytest, ypred_rfc, labels, 'RFC')"
   ]
  },
  {
   "cell_type": "code",
   "execution_count": 104,
   "id": "36d7b17d",
   "metadata": {},
   "outputs": [
    {
     "data": {
      "text/html": [
       "<div>\n",
       "<style scoped>\n",
       "    .dataframe tbody tr th:only-of-type {\n",
       "        vertical-align: middle;\n",
       "    }\n",
       "\n",
       "    .dataframe tbody tr th {\n",
       "        vertical-align: top;\n",
       "    }\n",
       "\n",
       "    .dataframe thead th {\n",
       "        text-align: right;\n",
       "    }\n",
       "</style>\n",
       "<table border=\"1\" class=\"dataframe\">\n",
       "  <thead>\n",
       "    <tr style=\"text-align: right;\">\n",
       "      <th></th>\n",
       "      <th>Accuracy_Score</th>\n",
       "      <th>Precision_Score</th>\n",
       "      <th>Recall_Score</th>\n",
       "      <th>F1_Score</th>\n",
       "    </tr>\n",
       "    <tr>\n",
       "      <th>Model</th>\n",
       "      <th></th>\n",
       "      <th></th>\n",
       "      <th></th>\n",
       "      <th></th>\n",
       "    </tr>\n",
       "  </thead>\n",
       "  <tbody>\n",
       "    <tr>\n",
       "      <th>Naive_Bayes</th>\n",
       "      <td>83.2</td>\n",
       "      <td>84.7</td>\n",
       "      <td>83.2</td>\n",
       "      <td>83.3</td>\n",
       "    </tr>\n",
       "    <tr>\n",
       "      <th>Logistic_Regression</th>\n",
       "      <td>87.3</td>\n",
       "      <td>87.4</td>\n",
       "      <td>87.3</td>\n",
       "      <td>87.2</td>\n",
       "    </tr>\n",
       "    <tr>\n",
       "      <th>Random_Forest</th>\n",
       "      <td>89.9</td>\n",
       "      <td>90.4</td>\n",
       "      <td>89.9</td>\n",
       "      <td>89.9</td>\n",
       "    </tr>\n",
       "  </tbody>\n",
       "</table>\n",
       "</div>"
      ],
      "text/plain": [
       "                     Accuracy_Score  Precision_Score  Recall_Score  F1_Score\n",
       "Model                                                                       \n",
       "Naive_Bayes                    83.2             84.7          83.2      83.3\n",
       "Logistic_Regression            87.3             87.4          87.3      87.2\n",
       "Random_Forest                  89.9             90.4          89.9      89.9"
      ]
     },
     "execution_count": 104,
     "metadata": {},
     "output_type": "execute_result"
    }
   ],
   "source": [
    "Classification_Metric_models(ytest, [ypred_NB, ypred_LR, ypred_rfc], ['Naive_Bayes','Logistic_Regression','Random_Forest'])"
   ]
  },
  {
   "cell_type": "markdown",
   "id": "eb8a261f",
   "metadata": {},
   "source": [
    "#### By looking at both training and testing accuracy, Naive Bayes and Logistic regression have found to overfit the data when compared to Random forest classifiser."
   ]
  },
  {
   "cell_type": "code",
   "execution_count": null,
   "id": "cdbeb7b0",
   "metadata": {},
   "outputs": [],
   "source": []
  }
 ],
 "metadata": {
  "kernelspec": {
   "display_name": "Python 3 (ipykernel)",
   "language": "python",
   "name": "python3"
  },
  "language_info": {
   "codemirror_mode": {
    "name": "ipython",
    "version": 3
   },
   "file_extension": ".py",
   "mimetype": "text/x-python",
   "name": "python",
   "nbconvert_exporter": "python",
   "pygments_lexer": "ipython3",
   "version": "3.9.7"
  }
 },
 "nbformat": 4,
 "nbformat_minor": 5
}
